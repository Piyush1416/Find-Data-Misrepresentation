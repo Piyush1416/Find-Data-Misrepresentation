{
 "cells": [
  {
   "cell_type": "markdown",
   "metadata": {},
   "source": [
    "Let us Find out if the survey respondents may be intentionally misrepresenting their\n",
    "health status for Diabetes “DIABETE3” (variable number VARNUM 45) and therefore reducing the\n",
    "value of the survey"
   ]
  },
  {
   "cell_type": "markdown",
   "metadata": {},
   "source": [
    "For that I begin with an initial hypothesis stating that in a given dataset, there is no misrepresentation of data."
   ]
  },
  {
   "cell_type": "markdown",
   "metadata": {},
   "source": [
    "I will be using the dataset provided, and carrying out preliminary analysis"
   ]
  },
  {
   "cell_type": "markdown",
   "metadata": {},
   "source": [
    "I will be breaking down my analysis into following steps:\n",
    "    \n",
    "    1] Data Exploration\n",
    "    \n",
    "    2] Feature Selection\n",
    "    \n",
    "    3] Hypothesis Validation\n",
    "    \n",
    "    3] Predictive Analysis\n",
    "    \n",
    "    4] Thought of improvement and Further Analysis"
   ]
  },
  {
   "cell_type": "code",
   "execution_count": 186,
   "metadata": {},
   "outputs": [],
   "source": [
    "import pandas as pd"
   ]
  },
  {
   "cell_type": "code",
   "execution_count": 187,
   "metadata": {},
   "outputs": [],
   "source": [
    "# load dataset\n",
    "dataset = pd.read_csv('SBU_example_Surveydata_2014.csv', encoding = \"ISO-8859-1\")"
   ]
  },
  {
   "cell_type": "code",
   "execution_count": 188,
   "metadata": {},
   "outputs": [
    {
     "data": {
      "text/html": [
       "<div>\n",
       "<style scoped>\n",
       "    .dataframe tbody tr th:only-of-type {\n",
       "        vertical-align: middle;\n",
       "    }\n",
       "\n",
       "    .dataframe tbody tr th {\n",
       "        vertical-align: top;\n",
       "    }\n",
       "\n",
       "    .dataframe thead th {\n",
       "        text-align: right;\n",
       "    }\n",
       "</style>\n",
       "<table border=\"1\" class=\"dataframe\">\n",
       "  <thead>\n",
       "    <tr style=\"text-align: right;\">\n",
       "      <th></th>\n",
       "      <th>STATE</th>\n",
       "      <th>GEOSTR</th>\n",
       "      <th>DENSTR2</th>\n",
       "      <th>PRECALL</th>\n",
       "      <th>REPNUM</th>\n",
       "      <th>REPDEPTH</th>\n",
       "      <th>FMONTH</th>\n",
       "      <th>IDATE</th>\n",
       "      <th>IMONTH</th>\n",
       "      <th>IDAY</th>\n",
       "      <th>...</th>\n",
       "      <th>HCVPRIME</th>\n",
       "      <th>HCVPRIMA</th>\n",
       "      <th>HLTHPREG</th>\n",
       "      <th>PREGEVER</th>\n",
       "      <th>BRTHCNTL3</th>\n",
       "      <th>TYPCNTRL2</th>\n",
       "      <th>NOBCUSE2</th>\n",
       "      <th>PFCHLDFT</th>\n",
       "      <th>PRNTLVIT</th>\n",
       "      <th>REGION</th>\n",
       "    </tr>\n",
       "  </thead>\n",
       "  <tbody>\n",
       "    <tr>\n",
       "      <th>0</th>\n",
       "      <td>New York</td>\n",
       "      <td>201</td>\n",
       "      <td>D</td>\n",
       "      <td>To be called</td>\n",
       "      <td>40136</td>\n",
       "      <td>28</td>\n",
       "      <td>April</td>\n",
       "      <td>4252014</td>\n",
       "      <td>4</td>\n",
       "      <td>25</td>\n",
       "      <td>...</td>\n",
       "      <td>Not asked or Missing</td>\n",
       "      <td>Not asked or Missing</td>\n",
       "      <td>Not asked or Missing</td>\n",
       "      <td>Not asked or Missing</td>\n",
       "      <td>NaN</td>\n",
       "      <td>NaN</td>\n",
       "      <td>NaN</td>\n",
       "      <td>Not asked or Missing</td>\n",
       "      <td>NaN</td>\n",
       "      <td>NYS exclusive of NYC</td>\n",
       "    </tr>\n",
       "    <tr>\n",
       "      <th>1</th>\n",
       "      <td>New York</td>\n",
       "      <td>202</td>\n",
       "      <td>D</td>\n",
       "      <td>To be called</td>\n",
       "      <td>10105</td>\n",
       "      <td>17</td>\n",
       "      <td>January</td>\n",
       "      <td>3162014</td>\n",
       "      <td>3</td>\n",
       "      <td>16</td>\n",
       "      <td>...</td>\n",
       "      <td>Not asked or Missing</td>\n",
       "      <td>Not asked or Missing</td>\n",
       "      <td>Not asked or Missing</td>\n",
       "      <td>Not asked or Missing</td>\n",
       "      <td>NaN</td>\n",
       "      <td>NaN</td>\n",
       "      <td>NaN</td>\n",
       "      <td>Not asked or Missing</td>\n",
       "      <td>NaN</td>\n",
       "      <td>New York City (NYC)</td>\n",
       "    </tr>\n",
       "    <tr>\n",
       "      <th>2</th>\n",
       "      <td>New York</td>\n",
       "      <td>201</td>\n",
       "      <td>D</td>\n",
       "      <td>To be called</td>\n",
       "      <td>110014</td>\n",
       "      <td>4</td>\n",
       "      <td>November</td>\n",
       "      <td>11292014</td>\n",
       "      <td>November</td>\n",
       "      <td>29</td>\n",
       "      <td>...</td>\n",
       "      <td>Not asked or Missing</td>\n",
       "      <td>Not asked or Missing</td>\n",
       "      <td>Not asked or Missing</td>\n",
       "      <td>Not asked or Missing</td>\n",
       "      <td>NaN</td>\n",
       "      <td>NaN</td>\n",
       "      <td>NaN</td>\n",
       "      <td>Not asked or Missing</td>\n",
       "      <td>NaN</td>\n",
       "      <td>NYS exclusive of NYC</td>\n",
       "    </tr>\n",
       "    <tr>\n",
       "      <th>3</th>\n",
       "      <td>New York</td>\n",
       "      <td>201</td>\n",
       "      <td>D</td>\n",
       "      <td>To be called</td>\n",
       "      <td>110083</td>\n",
       "      <td>6</td>\n",
       "      <td>November</td>\n",
       "      <td>11252014</td>\n",
       "      <td>November</td>\n",
       "      <td>25</td>\n",
       "      <td>...</td>\n",
       "      <td>Not asked or Missing</td>\n",
       "      <td>Not asked or Missing</td>\n",
       "      <td>Not asked or Missing</td>\n",
       "      <td>Not asked or Missing</td>\n",
       "      <td>NaN</td>\n",
       "      <td>NaN</td>\n",
       "      <td>NaN</td>\n",
       "      <td>Not asked or Missing</td>\n",
       "      <td>NaN</td>\n",
       "      <td>NYS exclusive of NYC</td>\n",
       "    </tr>\n",
       "    <tr>\n",
       "      <th>4</th>\n",
       "      <td>New York</td>\n",
       "      <td>202</td>\n",
       "      <td>D</td>\n",
       "      <td>To be called</td>\n",
       "      <td>50129</td>\n",
       "      <td>7</td>\n",
       "      <td>May</td>\n",
       "      <td>10052014</td>\n",
       "      <td>October</td>\n",
       "      <td>5</td>\n",
       "      <td>...</td>\n",
       "      <td>Not asked or Missing</td>\n",
       "      <td>Not asked or Missing</td>\n",
       "      <td>Not asked or Missing</td>\n",
       "      <td>Not asked or Missing</td>\n",
       "      <td>NaN</td>\n",
       "      <td>NaN</td>\n",
       "      <td>NaN</td>\n",
       "      <td>Not asked or Missing</td>\n",
       "      <td>NaN</td>\n",
       "      <td>New York City (NYC)</td>\n",
       "    </tr>\n",
       "  </tbody>\n",
       "</table>\n",
       "<p>5 rows × 120 columns</p>\n",
       "</div>"
      ],
      "text/plain": [
       "      STATE  GEOSTR DENSTR2       PRECALL  REPNUM  REPDEPTH    FMONTH  \\\n",
       "0  New York     201       D  To be called   40136        28     April   \n",
       "1  New York     202       D  To be called   10105        17   January   \n",
       "2  New York     201       D  To be called  110014         4  November   \n",
       "3  New York     201       D  To be called  110083         6  November   \n",
       "4  New York     202       D  To be called   50129         7       May   \n",
       "\n",
       "      IDATE    IMONTH  IDAY          ...                       HCVPRIME  \\\n",
       "0   4252014         4    25          ...           Not asked or Missing   \n",
       "1   3162014         3    16          ...           Not asked or Missing   \n",
       "2  11292014  November    29          ...           Not asked or Missing   \n",
       "3  11252014  November    25          ...           Not asked or Missing   \n",
       "4  10052014   October     5          ...           Not asked or Missing   \n",
       "\n",
       "               HCVPRIMA              HLTHPREG              PREGEVER  \\\n",
       "0  Not asked or Missing  Not asked or Missing  Not asked or Missing   \n",
       "1  Not asked or Missing  Not asked or Missing  Not asked or Missing   \n",
       "2  Not asked or Missing  Not asked or Missing  Not asked or Missing   \n",
       "3  Not asked or Missing  Not asked or Missing  Not asked or Missing   \n",
       "4  Not asked or Missing  Not asked or Missing  Not asked or Missing   \n",
       "\n",
       "   BRTHCNTL3  TYPCNTRL2  NOBCUSE2              PFCHLDFT PRNTLVIT  \\\n",
       "0        NaN        NaN       NaN  Not asked or Missing      NaN   \n",
       "1        NaN        NaN       NaN  Not asked or Missing      NaN   \n",
       "2        NaN        NaN       NaN  Not asked or Missing      NaN   \n",
       "3        NaN        NaN       NaN  Not asked or Missing      NaN   \n",
       "4        NaN        NaN       NaN  Not asked or Missing      NaN   \n",
       "\n",
       "                 REGION  \n",
       "0  NYS exclusive of NYC  \n",
       "1   New York City (NYC)  \n",
       "2  NYS exclusive of NYC  \n",
       "3  NYS exclusive of NYC  \n",
       "4   New York City (NYC)  \n",
       "\n",
       "[5 rows x 120 columns]"
      ]
     },
     "execution_count": 188,
     "metadata": {},
     "output_type": "execute_result"
    }
   ],
   "source": [
    "dataset.head()"
   ]
  },
  {
   "cell_type": "code",
   "execution_count": 189,
   "metadata": {},
   "outputs": [
    {
     "data": {
      "text/plain": [
       "(6865, 120)"
      ]
     },
     "execution_count": 189,
     "metadata": {},
     "output_type": "execute_result"
    }
   ],
   "source": [
    "dataset.shape"
   ]
  },
  {
   "cell_type": "markdown",
   "metadata": {},
   "source": [
    "So we have 6865 different user survey inputs with 120 feature sets of which  “DIABETE3” (variable number VARNUM 45) is going to be our output feature. Let us check out different types of output classes that we got."
   ]
  },
  {
   "cell_type": "code",
   "execution_count": 190,
   "metadata": {},
   "outputs": [
    {
     "data": {
      "text/plain": [
       "array(['No', 'Yes', 'No pre-diabetes or borderline diabetes',\n",
       "       'Yes but female told only during pregnancy',\n",
       "       'Don\\x92t know/Not Sure', 'Refused'], dtype=object)"
      ]
     },
     "execution_count": 190,
     "metadata": {},
     "output_type": "execute_result"
    }
   ],
   "source": [
    "dataset['DIABETE3'].unique()"
   ]
  },
  {
   "cell_type": "markdown",
   "metadata": {},
   "source": [
    "After reading these uniques output values available, I believe its better to have just 2 categories,\n",
    "\n",
    "1] Diabetes  Present or 1\n",
    "\n",
    "2] Diabetes  Absent  or 0"
   ]
  },
  {
   "cell_type": "code",
   "execution_count": 191,
   "metadata": {},
   "outputs": [],
   "source": [
    "import numpy as np\n",
    "\n",
    "dataset['DIABETE3'] = np.where(dataset['DIABETE3'] == 'Yes',1,0 )"
   ]
  },
  {
   "cell_type": "code",
   "execution_count": 192,
   "metadata": {},
   "outputs": [
    {
     "data": {
      "text/plain": [
       "array([0, 1], dtype=int64)"
      ]
     },
     "execution_count": 192,
     "metadata": {},
     "output_type": "execute_result"
    }
   ],
   "source": [
    "#Now lets check for changes\n",
    "\n",
    "dataset['DIABETE3'].unique()"
   ]
  },
  {
   "cell_type": "markdown",
   "metadata": {},
   "source": [
    "# We need to Validate the Claim of SBU that Value of Column Diabetes is been misrepresented"
   ]
  },
  {
   "cell_type": "markdown",
   "metadata": {},
   "source": [
    "Easiest way to do it, would be to quickly cluster the results and see the strength of cluster to actual labels before we proceed with any other prediction."
   ]
  },
  {
   "cell_type": "code",
   "execution_count": 193,
   "metadata": {},
   "outputs": [
    {
     "name": "stdout",
     "output_type": "stream",
     "text": [
      "0    6023\n",
      "1     842\n",
      "Name: DIABETE3, dtype: int64\n"
     ]
    }
   ],
   "source": [
    "print(dataset['DIABETE3'].value_counts())"
   ]
  },
  {
   "cell_type": "code",
   "execution_count": 194,
   "metadata": {},
   "outputs": [],
   "source": [
    "import matplotlib.pyplot as plt\n",
    "% matplotlib inline\n",
    "plt.style.use('ggplot')\n",
    "import seaborn as sns\n",
    "sns.set(rc={'figure.figsize':(15,5)})"
   ]
  },
  {
   "cell_type": "code",
   "execution_count": 195,
   "metadata": {},
   "outputs": [
    {
     "data": {
      "text/plain": [
       "<matplotlib.axes._subplots.AxesSubplot at 0x209445fa828>"
      ]
     },
     "execution_count": 195,
     "metadata": {},
     "output_type": "execute_result"
    },
    {
     "data": {
      "image/png": "[encoded data removed]",
      "text/plain": [
       "<matplotlib.figure.Figure at 0x20943ce7400>"
      ]
     },
     "metadata": {},
     "output_type": "display_data"
    }
   ],
   "source": [
    "sns.countplot(x='DIABETE3',data=dataset)"
   ]
  },
  {
   "cell_type": "markdown",
   "metadata": {},
   "source": [
    "As we have a look at Above Figure, it clearly shows how much biased our dataset is towards one class,\n",
    "Class no diabetes has almost 90% data while just 10% data of class Diabetes exists,\n",
    "which creates our dataset highly imbalanced if used directly for training ML model and at same time gives us an vague idea of\n",
    "what SBU suspects of health status misrepresentation."
   ]
  },
  {
   "cell_type": "code",
   "execution_count": 196,
   "metadata": {},
   "outputs": [
    {
     "name": "stdout",
     "output_type": "stream",
     "text": [
      "0    0.877349\n",
      "1    0.122651\n",
      "Name: DIABETE3, dtype: float64\n"
     ]
    }
   ],
   "source": [
    "# lets confirm our findings by looking at statistics of values\n",
    "print(dataset['DIABETE3'].value_counts()/np.float(len(dataset)))"
   ]
  },
  {
   "cell_type": "markdown",
   "metadata": {},
   "source": [
    "so 87% of survey respondents said no to diabetes while just 12% said they had diabetes"
   ]
  },
  {
   "cell_type": "markdown",
   "metadata": {},
   "source": [
    "Before I go on to choosing and training my prediction algo, I would like to do feature engineering, where we need to check for null values present in dataset and eliminate them, and even do dimensionality reduction for choosing features which provide highest information for given dataset."
   ]
  },
  {
   "cell_type": "code",
   "execution_count": 197,
   "metadata": {},
   "outputs": [
    {
     "name": "stdout",
     "output_type": "stream",
     "text": [
      "STATERES 0.3159504734158776\n",
      "LADULT 0.9994173343044428\n",
      "NUMADULT 0.3159504734158776\n",
      "CTYCODE1 1.0\n",
      "LASTHCVT 0.8907501820830298\n",
      "BRTHCNTL3 0.9364894391842681\n",
      "TYPCNTRL2 0.9644573925710124\n",
      "NOBCUSE2 0.9791697013838311\n",
      "PRNTLVIT 0.9378004369992716\n"
     ]
    }
   ],
   "source": [
    "for ar in dataset.columns:\n",
    "    if dataset[ar].isnull().sum()>0:\n",
    "        print(ar, dataset[ar].isnull().mean())"
   ]
  },
  {
   "cell_type": "code",
   "execution_count": 198,
   "metadata": {},
   "outputs": [],
   "source": [
    "Clustering_data = dataset.copy()\n",
    "#will be eliminating columns of little or no importance\n",
    "Clustering_data.drop(['STATE','PRECALL','HEIGHT3','WEIGHT2','HTIN4','HTM4','WTKG3','DENSTR2','REPNUM','REPDEPTH','FMONTH','IDATE','IMONTH','IDAY','IYEAR','SEQNO','PSU','NATTMPTS','NRECSEL','NRECSEL','NRECSTR','STATERES','ZIPCODE','LADULT','CTYCODE1','LASTHCVT','BRTHCNTL3','TYPCNTRL2','NOBCUSE2','PRNTLVIT','NUMADULT'], axis=1,inplace=True)"
   ]
  },
  {
   "cell_type": "markdown",
   "metadata": {},
   "source": [
    "Inorder to carry out ML analysis, we need to convert categorial values to numerical values"
   ]
  },
  {
   "cell_type": "code",
   "execution_count": 199,
   "metadata": {},
   "outputs": [
    {
     "name": "stdout",
     "output_type": "stream",
     "text": [
      "We got 87 categorical variables\n"
     ]
    }
   ],
   "source": [
    "categorical = [var for var in balanced_data.columns if balanced_data[var].dtype=='O']\n",
    "print('We got {} categorical variables'.format(len(categorical)))"
   ]
  },
  {
   "cell_type": "code",
   "execution_count": 200,
   "metadata": {},
   "outputs": [],
   "source": [
    "#converting all categorial data to numerical values\n",
    "\n",
    "categorical = [var for var in categorical]\n",
    "for col in categorical:\n",
    "    ordered_labels = Clustering_data.groupby([col])['DIABETE3'].mean().to_dict()  \n",
    "    # encode variables\n",
    "    Clustering_data[col] = Clustering_data[col].map(ordered_labels)"
   ]
  },
  {
   "cell_type": "code",
   "execution_count": 201,
   "metadata": {},
   "outputs": [
    {
     "data": {
      "text/plain": [
       "(6865, 89)"
      ]
     },
     "execution_count": 201,
     "metadata": {},
     "output_type": "execute_result"
    }
   ],
   "source": [
    "Clustering_data.drop(labels=['DIABETE3'], inplace=True, axis=1)\n",
    "Clustering_data.shape"
   ]
  },
  {
   "cell_type": "code",
   "execution_count": 202,
   "metadata": {},
   "outputs": [],
   "source": [
    "from sklearn.cluster import KMeans\n",
    "model = KMeans(n_clusters=2)\n",
    "model.fit(Clustering_data)\n",
    "labels = model.predict(Clustering_data)"
   ]
  },
  {
   "cell_type": "code",
   "execution_count": 203,
   "metadata": {},
   "outputs": [
    {
     "data": {
      "text/plain": [
       "{0: 4696, 1: 2169}"
      ]
     },
     "execution_count": 203,
     "metadata": {},
     "output_type": "execute_result"
    }
   ],
   "source": [
    "import numpy\n",
    "unique, counts = numpy.unique(labels, return_counts=True) \n",
    "dict(zip(unique, counts))"
   ]
  },
  {
   "cell_type": "code",
   "execution_count": 204,
   "metadata": {},
   "outputs": [],
   "source": [
    "Clustering_data['Cluster'] = labels"
   ]
  },
  {
   "cell_type": "code",
   "execution_count": 208,
   "metadata": {},
   "outputs": [
    {
     "name": "stdout",
     "output_type": "stream",
     "text": [
      "{0: 4696, 1: 2169}\n"
     ]
    },
    {
     "data": {
      "text/plain": [
       "<matplotlib.axes._subplots.AxesSubplot at 0x20943a9b358>"
      ]
     },
     "execution_count": 208,
     "metadata": {},
     "output_type": "execute_result"
    },
    {
     "data": {
      "image/png": "[encoded data removed]",
      "text/plain": [
       "<matplotlib.figure.Figure at 0x20943ba16d8>"
      ]
     },
     "metadata": {},
     "output_type": "display_data"
    }
   ],
   "source": [
    "print(dict(zip(unique, counts)))\n",
    "sns.countplot(x='Cluster',data=Clustering_data)"
   ]
  },
  {
   "cell_type": "code",
   "execution_count": 207,
   "metadata": {},
   "outputs": [
    {
     "name": "stdout",
     "output_type": "stream",
     "text": [
      "0    6023\n",
      "1     842\n",
      "Name: DIABETE3, dtype: int64\n"
     ]
    },
    {
     "data": {
      "text/plain": [
       "<matplotlib.axes._subplots.AxesSubplot at 0x20943a9f358>"
      ]
     },
     "execution_count": 207,
     "metadata": {},
     "output_type": "execute_result"
    },
    {
     "data": {
      "image/png": "[encoded data removed]",
      "text/plain": [
       "<matplotlib.figure.Figure at 0x2094318a048>"
      ]
     },
     "metadata": {},
     "output_type": "display_data"
    }
   ],
   "source": [
    "print(dataset['DIABETE3'].value_counts())\n",
    "sns.countplot(x='DIABETE3',data=dataset)"
   ]
  },
  {
   "cell_type": "markdown",
   "metadata": {},
   "source": [
    "### If we compare both the plots above, we can clearly see a huge difference in value of people having diabetes,the survey said just 842 ppl had diabetes, however our initial predicitions said otherwise with a count of 2169, so we can certainly say that, the survey is been misrepresented and need to carry out further analysis to find the faulty values and correct them using our prediction algorithm."
   ]
  },
  {
   "cell_type": "markdown",
   "metadata": {},
   "source": [
    "### So our initial hypothesis of data been not misreperesented is proved wrong and we need to start with figuring out effecient algorithms to find the misrepresented values"
   ]
  },
  {
   "cell_type": "markdown",
   "metadata": {},
   "source": [
    "###  Importance of Data BALANCING"
   ]
  },
  {
   "cell_type": "markdown",
   "metadata": {},
   "source": [
    "As in above case, dataset been imbalanced with 87% data of one class (no diabetes) and just 12% data of class (diabetes), training a predictive model based on it, is most likely going to give us results biased towards majority class.\n",
    "So we need to sample dataset in a way that samples of both class are relatively equal.\n",
    "\n",
    "The intern code didnt take that into consideration, so considering it now, Just to prove initial Hypothesis that there is no misrepresentation of data wrong."
   ]
  },
  {
   "cell_type": "code",
   "execution_count": 210,
   "metadata": {},
   "outputs": [
    {
     "data": {
      "text/plain": [
       "(842, 120)"
      ]
     },
     "execution_count": 210,
     "metadata": {},
     "output_type": "execute_result"
    }
   ],
   "source": [
    "diabetes = dataset[dataset.DIABETE3==1]\n",
    "diabetes.shape"
   ]
  },
  {
   "cell_type": "code",
   "execution_count": 211,
   "metadata": {},
   "outputs": [
    {
     "data": {
      "text/plain": [
       "(6023, 120)"
      ]
     },
     "execution_count": 211,
     "metadata": {},
     "output_type": "execute_result"
    }
   ],
   "source": [
    "non_diabetes = dataset[dataset.DIABETE3==0]\n",
    "non_diabetes.shape"
   ]
  },
  {
   "cell_type": "markdown",
   "metadata": {},
   "source": [
    "now will sample random data from non_diabetes section to balance with diabetes data"
   ]
  },
  {
   "cell_type": "code",
   "execution_count": 212,
   "metadata": {},
   "outputs": [],
   "source": [
    "non_diabetes1 = non_diabetes.sample(n=842, random_state=2)"
   ]
  },
  {
   "cell_type": "code",
   "execution_count": 213,
   "metadata": {},
   "outputs": [
    {
     "data": {
      "text/plain": [
       "(842, 120)"
      ]
     },
     "execution_count": 213,
     "metadata": {},
     "output_type": "execute_result"
    }
   ],
   "source": [
    "non_diabetes1.shape"
   ]
  },
  {
   "cell_type": "markdown",
   "metadata": {},
   "source": [
    "now will combine both equal sized dataframe into single dataframe for further processing"
   ]
  },
  {
   "cell_type": "code",
   "execution_count": 214,
   "metadata": {},
   "outputs": [],
   "source": [
    "balanced_data = diabetes.append(non_diabetes1, ignore_index=True )"
   ]
  },
  {
   "cell_type": "code",
   "execution_count": 215,
   "metadata": {},
   "outputs": [
    {
     "data": {
      "text/plain": [
       "(1684, 120)"
      ]
     },
     "execution_count": 215,
     "metadata": {},
     "output_type": "execute_result"
    }
   ],
   "source": [
    "balanced_data.shape"
   ]
  },
  {
   "cell_type": "code",
   "execution_count": 216,
   "metadata": {},
   "outputs": [],
   "source": [
    "# we need to delete the above columns along with that those columns with constant values which makes no sense\n",
    "\n",
    "balanced_data.drop(['STATE','PRECALL','HEIGHT3','WEIGHT2','HTIN4','HTM4','WTKG3','DENSTR2','REPNUM','REPDEPTH','FMONTH','IDATE','IMONTH','IDAY','IYEAR','SEQNO','PSU','NATTMPTS','NRECSEL','NRECSEL','NRECSTR','STATERES','ZIPCODE','LADULT','CTYCODE1','LASTHCVT','BRTHCNTL3','TYPCNTRL2','NOBCUSE2','PRNTLVIT','NUMADULT'], axis=1,inplace=True)\n"
   ]
  },
  {
   "cell_type": "code",
   "execution_count": 51,
   "metadata": {},
   "outputs": [
    {
     "data": {
      "text/plain": [
       "(1684, 90)"
      ]
     },
     "execution_count": 51,
     "metadata": {},
     "output_type": "execute_result"
    }
   ],
   "source": [
    "balanced_data.shape"
   ]
  },
  {
   "cell_type": "code",
   "execution_count": 52,
   "metadata": {},
   "outputs": [
    {
     "data": {
      "text/html": [
       "<div>\n",
       "<style scoped>\n",
       "    .dataframe tbody tr th:only-of-type {\n",
       "        vertical-align: middle;\n",
       "    }\n",
       "\n",
       "    .dataframe tbody tr th {\n",
       "        vertical-align: top;\n",
       "    }\n",
       "\n",
       "    .dataframe thead th {\n",
       "        text-align: right;\n",
       "    }\n",
       "</style>\n",
       "<table border=\"1\" class=\"dataframe\">\n",
       "  <thead>\n",
       "    <tr style=\"text-align: right;\">\n",
       "      <th></th>\n",
       "      <th>GEOSTR</th>\n",
       "      <th>DISPCODE</th>\n",
       "      <th>PVTRESD1</th>\n",
       "      <th>COLGHOUS</th>\n",
       "      <th>CELLFON3</th>\n",
       "      <th>GENHLTH</th>\n",
       "      <th>PHYSHLTH</th>\n",
       "      <th>MENTHLTH</th>\n",
       "      <th>POORHLTH</th>\n",
       "      <th>HLTHPLN1</th>\n",
       "      <th>...</th>\n",
       "      <th>HCVHEAR</th>\n",
       "      <th>HCVTEST</th>\n",
       "      <th>HCVINPTE</th>\n",
       "      <th>HCVINPTA</th>\n",
       "      <th>HCVPRIME</th>\n",
       "      <th>HCVPRIMA</th>\n",
       "      <th>HLTHPREG</th>\n",
       "      <th>PREGEVER</th>\n",
       "      <th>PFCHLDFT</th>\n",
       "      <th>REGION</th>\n",
       "    </tr>\n",
       "  </thead>\n",
       "  <tbody>\n",
       "    <tr>\n",
       "      <th>0</th>\n",
       "      <td>202</td>\n",
       "      <td>1200</td>\n",
       "      <td>Missing</td>\n",
       "      <td>Missing</td>\n",
       "      <td>Missing</td>\n",
       "      <td>Fair</td>\n",
       "      <td>None</td>\n",
       "      <td>None</td>\n",
       "      <td>Not asked or Missing</td>\n",
       "      <td>No</td>\n",
       "      <td>...</td>\n",
       "      <td>Not asked or Missing</td>\n",
       "      <td>Not asked or Missing</td>\n",
       "      <td>Not asked or Missing</td>\n",
       "      <td>Not asked or Missing</td>\n",
       "      <td>Not asked or Missing</td>\n",
       "      <td>Not asked or Missing</td>\n",
       "      <td>Not asked or Missing</td>\n",
       "      <td>Not asked or Missing</td>\n",
       "      <td>Not asked or Missing</td>\n",
       "      <td>New York City (NYC)</td>\n",
       "    </tr>\n",
       "    <tr>\n",
       "      <th>1</th>\n",
       "      <td>202</td>\n",
       "      <td>1200</td>\n",
       "      <td>Missing</td>\n",
       "      <td>Missing</td>\n",
       "      <td>Missing</td>\n",
       "      <td>Fair</td>\n",
       "      <td>Number of days</td>\n",
       "      <td>Number of days</td>\n",
       "      <td>Number of days</td>\n",
       "      <td>No</td>\n",
       "      <td>...</td>\n",
       "      <td>Not asked or Missing</td>\n",
       "      <td>Not asked or Missing</td>\n",
       "      <td>Not asked or Missing</td>\n",
       "      <td>Not asked or Missing</td>\n",
       "      <td>Not asked or Missing</td>\n",
       "      <td>Not asked or Missing</td>\n",
       "      <td>Not asked or Missing</td>\n",
       "      <td>Not asked or Missing</td>\n",
       "      <td>Not asked or Missing</td>\n",
       "      <td>New York City (NYC)</td>\n",
       "    </tr>\n",
       "    <tr>\n",
       "      <th>2</th>\n",
       "      <td>201</td>\n",
       "      <td>1200</td>\n",
       "      <td>Missing</td>\n",
       "      <td>Missing</td>\n",
       "      <td>Missing</td>\n",
       "      <td>Very good</td>\n",
       "      <td>None</td>\n",
       "      <td>None</td>\n",
       "      <td>Not asked or Missing</td>\n",
       "      <td>Yes</td>\n",
       "      <td>...</td>\n",
       "      <td>Not asked or Missing</td>\n",
       "      <td>Not asked or Missing</td>\n",
       "      <td>Not asked or Missing</td>\n",
       "      <td>Not asked or Missing</td>\n",
       "      <td>Not asked or Missing</td>\n",
       "      <td>Not asked or Missing</td>\n",
       "      <td>Not asked or Missing</td>\n",
       "      <td>Not asked or Missing</td>\n",
       "      <td>Not asked or Missing</td>\n",
       "      <td>NYS exclusive of NYC</td>\n",
       "    </tr>\n",
       "    <tr>\n",
       "      <th>3</th>\n",
       "      <td>202</td>\n",
       "      <td>1200</td>\n",
       "      <td>Missing</td>\n",
       "      <td>Missing</td>\n",
       "      <td>Missing</td>\n",
       "      <td>Fair</td>\n",
       "      <td>Number of days</td>\n",
       "      <td>Number of days</td>\n",
       "      <td>Number of days</td>\n",
       "      <td>Yes</td>\n",
       "      <td>...</td>\n",
       "      <td>Not asked or Missing</td>\n",
       "      <td>Not asked or Missing</td>\n",
       "      <td>Not asked or Missing</td>\n",
       "      <td>Not asked or Missing</td>\n",
       "      <td>Not asked or Missing</td>\n",
       "      <td>Not asked or Missing</td>\n",
       "      <td>Not asked or Missing</td>\n",
       "      <td>Not asked or Missing</td>\n",
       "      <td>Not asked or Missing</td>\n",
       "      <td>New York City (NYC)</td>\n",
       "    </tr>\n",
       "    <tr>\n",
       "      <th>4</th>\n",
       "      <td>202</td>\n",
       "      <td>1200</td>\n",
       "      <td>Missing</td>\n",
       "      <td>Missing</td>\n",
       "      <td>Missing</td>\n",
       "      <td>Very good</td>\n",
       "      <td>None</td>\n",
       "      <td>None</td>\n",
       "      <td>Not asked or Missing</td>\n",
       "      <td>Yes</td>\n",
       "      <td>...</td>\n",
       "      <td>Not asked or Missing</td>\n",
       "      <td>Not asked or Missing</td>\n",
       "      <td>Not asked or Missing</td>\n",
       "      <td>Not asked or Missing</td>\n",
       "      <td>Not asked or Missing</td>\n",
       "      <td>Not asked or Missing</td>\n",
       "      <td>Not asked or Missing</td>\n",
       "      <td>Not asked or Missing</td>\n",
       "      <td>Not asked or Missing</td>\n",
       "      <td>New York City (NYC)</td>\n",
       "    </tr>\n",
       "  </tbody>\n",
       "</table>\n",
       "<p>5 rows × 90 columns</p>\n",
       "</div>"
      ],
      "text/plain": [
       "   GEOSTR  DISPCODE PVTRESD1 COLGHOUS CELLFON3    GENHLTH        PHYSHLTH  \\\n",
       "0     202      1200  Missing  Missing  Missing       Fair            None   \n",
       "1     202      1200  Missing  Missing  Missing       Fair  Number of days   \n",
       "2     201      1200  Missing  Missing  Missing  Very good            None   \n",
       "3     202      1200  Missing  Missing  Missing       Fair  Number of days   \n",
       "4     202      1200  Missing  Missing  Missing  Very good            None   \n",
       "\n",
       "         MENTHLTH              POORHLTH HLTHPLN1          ...           \\\n",
       "0            None  Not asked or Missing       No          ...            \n",
       "1  Number of days        Number of days       No          ...            \n",
       "2            None  Not asked or Missing      Yes          ...            \n",
       "3  Number of days        Number of days      Yes          ...            \n",
       "4            None  Not asked or Missing      Yes          ...            \n",
       "\n",
       "                HCVHEAR               HCVTEST              HCVINPTE  \\\n",
       "0  Not asked or Missing  Not asked or Missing  Not asked or Missing   \n",
       "1  Not asked or Missing  Not asked or Missing  Not asked or Missing   \n",
       "2  Not asked or Missing  Not asked or Missing  Not asked or Missing   \n",
       "3  Not asked or Missing  Not asked or Missing  Not asked or Missing   \n",
       "4  Not asked or Missing  Not asked or Missing  Not asked or Missing   \n",
       "\n",
       "               HCVINPTA              HCVPRIME              HCVPRIMA  \\\n",
       "0  Not asked or Missing  Not asked or Missing  Not asked or Missing   \n",
       "1  Not asked or Missing  Not asked or Missing  Not asked or Missing   \n",
       "2  Not asked or Missing  Not asked or Missing  Not asked or Missing   \n",
       "3  Not asked or Missing  Not asked or Missing  Not asked or Missing   \n",
       "4  Not asked or Missing  Not asked or Missing  Not asked or Missing   \n",
       "\n",
       "               HLTHPREG              PREGEVER              PFCHLDFT  \\\n",
       "0  Not asked or Missing  Not asked or Missing  Not asked or Missing   \n",
       "1  Not asked or Missing  Not asked or Missing  Not asked or Missing   \n",
       "2  Not asked or Missing  Not asked or Missing  Not asked or Missing   \n",
       "3  Not asked or Missing  Not asked or Missing  Not asked or Missing   \n",
       "4  Not asked or Missing  Not asked or Missing  Not asked or Missing   \n",
       "\n",
       "                 REGION  \n",
       "0   New York City (NYC)  \n",
       "1   New York City (NYC)  \n",
       "2  NYS exclusive of NYC  \n",
       "3   New York City (NYC)  \n",
       "4   New York City (NYC)  \n",
       "\n",
       "[5 rows x 90 columns]"
      ]
     },
     "execution_count": 52,
     "metadata": {},
     "output_type": "execute_result"
    }
   ],
   "source": [
    "balanced_data.head()"
   ]
  },
  {
   "cell_type": "code",
   "execution_count": 62,
   "metadata": {},
   "outputs": [
    {
     "data": {
      "text/plain": [
       "((1347, 90), (337, 90))"
      ]
     },
     "execution_count": 62,
     "metadata": {},
     "output_type": "execute_result"
    }
   ],
   "source": [
    "from sklearn.model_selection import train_test_split\n",
    "\n",
    "X_train, X_test, y_train, y_test = train_test_split(balanced_data, balanced_data.DIABETE3, test_size=0.20,random_state=0)\n",
    "X_train.shape, X_test.shape"
   ]
  },
  {
   "cell_type": "code",
   "execution_count": 63,
   "metadata": {},
   "outputs": [
    {
     "name": "stdout",
     "output_type": "stream",
     "text": [
      "PVTRESD1 Yes        0.735709\n",
      "Missing    0.264291\n",
      "Name: PVTRESD1, dtype: float64\n",
      "\n",
      "COLGHOUS Missing    1.0\n",
      "Name: COLGHOUS, dtype: float64\n",
      "\n",
      "CELLFON3 Yes        0.735709\n",
      "Missing    0.264291\n",
      "Name: CELLFON3, dtype: float64\n",
      "\n",
      "GENHLTH Good                   0.331106\n",
      "Very good              0.269488\n",
      "Fair                   0.175204\n",
      "Excellent              0.121752\n",
      "Poor                   0.092799\n",
      "Refused                0.008909\n",
      "Dont know/Not Sure    0.000742\n",
      "Name: GENHLTH, dtype: float64\n",
      "\n",
      "PHYSHLTH None                   0.553081\n",
      "Number of days         0.411284\n",
      "Refused                0.019302\n",
      "Dont know/Not sure    0.016333\n",
      "Name: PHYSHLTH, dtype: float64\n",
      "\n",
      "MENTHLTH None                   0.631032\n",
      "Number of days         0.337045\n",
      "Refused                0.020045\n",
      "Dont know/Not sure    0.011878\n",
      "Name: MENTHLTH, dtype: float64\n",
      "\n",
      "POORHLTH Not asked or Missing    0.418708\n",
      "None                    0.294729\n",
      "Number of days          0.269488\n",
      "Refused                 0.009651\n",
      "Dont know/Not sure     0.007424\n",
      "Name: POORHLTH, dtype: float64\n",
      "\n",
      "HLTHPLN1 Yes                    0.922049\n",
      "No                     0.074981\n",
      "Refused                0.001485\n",
      "Dont know/Not Sure    0.001485\n",
      "Name: HLTHPLN1, dtype: float64\n",
      "\n",
      "EXERANY2 Yes                    0.703044\n",
      "No                     0.293244\n",
      "Refused                0.002970\n",
      "Dont know/Not Sure    0.000742\n",
      "Name: EXERANY2, dtype: float64\n",
      "\n",
      "SLEPTIM1 Number of hours [1-24]    0.984410\n",
      "Dont know/Not Sure       0.009651\n",
      "Refused                   0.005939\n",
      "Name: SLEPTIM1, dtype: float64\n",
      "\n",
      "CVDINFR4 No                     0.903489\n",
      "Yes                    0.088344\n",
      "Dont know/Not sure    0.006682\n",
      "Refused                0.001485\n",
      "Name: CVDINFR4, dtype: float64\n",
      "\n",
      "CVDCRHD4 No                     0.892353\n",
      "Yes                    0.100223\n",
      "Dont know/Not sure    0.006682\n",
      "Refused                0.000742\n",
      "Name: CVDCRHD4, dtype: float64\n",
      "\n",
      "CVDSTRK3 No                     0.943578\n",
      "Yes                    0.052710\n",
      "Dont know/Not sure    0.002970\n",
      "Refused                0.000742\n",
      "Name: CVDSTRK3, dtype: float64\n",
      "\n",
      "ASTHMA3 No                     0.841871\n",
      "Yes                    0.155902\n",
      "Dont know/Not Sure    0.001485\n",
      "Refused                0.000742\n",
      "Name: ASTHMA3, dtype: float64\n",
      "\n",
      "ASTHNOW Not asked or Missing    0.844098\n",
      "Yes                     0.112843\n",
      "No                      0.038604\n",
      "Dont know/Not Sure     0.004454\n",
      "Name: ASTHNOW, dtype: float64\n",
      "\n",
      "CHCSCNCR No                       0.932442\n",
      "Yes                      0.064588\n",
      "Dont know / Not sure    0.002227\n",
      "Refused                  0.000742\n",
      "Name: CHCSCNCR, dtype: float64\n",
      "\n",
      "CHCOCNCR No                       0.878990\n",
      "Yes                      0.119525\n",
      "Refused                  0.000742\n",
      "Dont know / Not sure    0.000742\n",
      "Name: CHCOCNCR, dtype: float64\n",
      "\n",
      "CHCCOPD No                    0.893096\n",
      "Yes                   0.102450\n",
      "Not sure/dont know    0.002970\n",
      "Refused               0.001485\n",
      "Name: CHCCOPD, dtype: float64\n",
      "\n",
      "HAVARTH3 No                     0.586488\n",
      "Yes                    0.409800\n",
      "Dont know/Not Sure    0.002227\n",
      "Refused                0.001485\n",
      "Name: HAVARTH3, dtype: float64\n",
      "\n",
      "ADDEPEV2 No                     0.815887\n",
      "Yes                    0.181886\n",
      "Refused                0.001485\n",
      "Dont know/Not sure    0.000742\n",
      "Name: ADDEPEV2, dtype: float64\n",
      "\n",
      "CHCKIDNY No                       0.947290\n",
      "Yes                      0.046028\n",
      "Dont know / Not sure    0.005197\n",
      "Refused                  0.001485\n",
      "Name: CHCKIDNY, dtype: float64\n",
      "\n",
      "AGE Age 65 or older    0.395694\n",
      "Age 55 - 64        0.207869\n",
      "Age 45 - 54        0.178916\n",
      "Age 35 - 44        0.091314\n",
      "Age 25 - 34        0.077209\n",
      "Age 18 - 24        0.037862\n",
      "Refused            0.011136\n",
      "Name: AGE, dtype: float64\n",
      "\n",
      "MARITAL Married                            0.432814\n",
      "Never married                      0.190052\n",
      "Divorced                           0.155902\n",
      "Widowed                            0.140312\n",
      "Separated                          0.040089\n",
      "A member of an unmarried couple    0.026726\n",
      "Refused                            0.011136\n",
      "Not asked or Missing               0.002970\n",
      "Name: MARITAL, dtype: float64\n",
      "\n",
      "CHILDREN None                    0.747587\n",
      "Number of children      0.244989\n",
      "Refused                 0.003712\n",
      "Not asked or Missing    0.003712\n",
      "Name: CHILDREN, dtype: float64\n",
      "\n",
      "EDUCA College 4 years or more (College graduate)                      0.386043\n",
      "Grade 12 or GED (High school graduate)                          0.278396\n",
      "College 1 year to 3 years (Some college or technical school)    0.223460\n",
      "Grades 9 through 11 (Some high school)                          0.054937\n",
      "Grades 1 through 8 (Elementary)                                 0.041574\n",
      "Refused                                                         0.009651\n",
      "Not asked or Missing                                            0.003712\n",
      "Never attended school or only kindergarten                      0.002227\n",
      "Name: EDUCA, dtype: float64\n",
      "\n",
      "EMPLOY1 Retired                             0.334818\n",
      "Employed for wages                  0.322940\n",
      "Unable to work                      0.104677\n",
      "Self-employed                       0.086117\n",
      "A homemaker                         0.054195\n",
      "Out of work for 1 year or more      0.036377\n",
      "Out of work for less that 1 year    0.023756\n",
      "A student                           0.020045\n",
      "Not asked or Missing                0.008909\n",
      "Refused                             0.008166\n",
      "Name: EMPLOY1, dtype: float64\n",
      "\n",
      "INCOME2 $75000 or more                                   0.222717\n",
      "Less than $75000 ($50000 to less than $75000)    0.123237\n",
      "Less than $50000 ($35000 to less than $50000)    0.118782\n",
      "Less than $20000 ($15000 to less than $20000)    0.088344\n",
      "Less than $35000 ($25000 to less than $35000)    0.088344\n",
      "Less than $25000 ($20000 to less than $25000)    0.087602\n",
      "Refused                                          0.066815\n",
      "Less than $15000 ($10000 to less than $15000)    0.065330\n",
      "Dont know/Not sure                              0.063103\n",
      "Less than $10000                                 0.057906\n",
      "Not asked or Missing                             0.017817\n",
      "Name: INCOME2, dtype: float64\n",
      "\n",
      "SEX Female    0.555308\n",
      "Male      0.444692\n",
      "Name: SEX, dtype: float64\n",
      "\n",
      "PREGNANT Not asked or Missing    0.877506\n",
      "No                      0.115813\n",
      "Yes                     0.005939\n",
      "Dont know/Not Sure     0.000742\n",
      "Name: PREGNANT, dtype: float64\n",
      "\n",
      "QLACTLM2 No                      0.658500\n",
      "Yes                     0.290275\n",
      "Not asked or Missing    0.046028\n",
      "Refused                 0.003712\n",
      "Dont know/Not Sure     0.001485\n",
      "Name: QLACTLM2, dtype: float64\n",
      "\n",
      "USEEQUIP No                      0.769117\n",
      "Yes                     0.181886\n",
      "Not asked or Missing    0.047513\n",
      "Refused                 0.000742\n",
      "Dont know/Not Sure     0.000742\n",
      "Name: USEEQUIP, dtype: float64\n",
      "\n",
      "BLIND No                      0.876021\n",
      "Yes                     0.069785\n",
      "Not asked or Missing    0.048255\n",
      "Refused                 0.005939\n",
      "Name: BLIND, dtype: float64\n",
      "\n",
      "DECIDE No                      0.828508\n",
      "Yes                     0.115813\n",
      "Not asked or Missing    0.051225\n",
      "Refused                 0.002227\n",
      "Dont know/Not Sure     0.002227\n",
      "Name: DECIDE, dtype: float64\n",
      "\n",
      "DIFFWALK No                      0.708983\n",
      "Yes                     0.233853\n",
      "Not asked or Missing    0.052710\n",
      "Refused                 0.002970\n",
      "Dont know/Not Sure     0.001485\n",
      "Name: DIFFWALK, dtype: float64\n",
      "\n",
      "DIFFDRES No                      0.887899\n",
      "Yes                     0.055679\n",
      "Not asked or Missing    0.054195\n",
      "Refused                 0.001485\n",
      "Dont know/Not Sure     0.000742\n",
      "Name: DIFFDRES, dtype: float64\n",
      "\n",
      "DIFFALON No                      0.832220\n",
      "Yes                     0.109874\n",
      "Not asked or Missing    0.054195\n",
      "Dont know/Not Sure     0.002970\n",
      "Refused                 0.000742\n",
      "Name: DIFFALON, dtype: float64\n",
      "\n",
      "USENOW3 Not at all              0.915367\n",
      "Not asked or Missing    0.055679\n",
      "Refused                 0.010393\n",
      "Every day               0.009651\n",
      "Some days               0.008166\n",
      "Dont know/Not Sure     0.000742\n",
      "Name: USENOW3, dtype: float64\n",
      "\n",
      "ALCDAY5 No drinks in past 30 days    0.481069\n",
      "Days in past 30 days         0.324425\n",
      "Days per week                0.128434\n",
      "Not asked or Missing         0.057164\n",
      "Dont know/Not sure          0.005197\n",
      "Refused                      0.003712\n",
      "Name: ALCDAY5, dtype: float64\n",
      "\n",
      "FLSHTMY2 Not asked or Missing    0.522643\n",
      "Month / Year            0.399406\n",
      "Dont know/Not Sure     0.034892\n",
      "122013                  0.034892\n",
      "Refused                 0.006682\n",
      "122014                  0.001485\n",
      "Name: FLSHTMY2, dtype: float64\n",
      "\n",
      "PNEUVAC3 No                      0.439495\n",
      "Yes                     0.403118\n",
      "Dont know/Not Sure     0.083890\n",
      "Not asked or Missing    0.072754\n",
      "Refused                 0.000742\n",
      "Name: PNEUVAC3, dtype: float64\n",
      "\n",
      "SHINGLE2 No                      0.511507\n",
      "Not asked or Missing    0.333333\n",
      "Yes                     0.134373\n",
      "Not sure/dont know      0.020045\n",
      "Refused                 0.000742\n",
      "Name: SHINGLE2, dtype: float64\n",
      "\n",
      "SEATBELT Always                          0.804751\n",
      "Not asked or Missing            0.076466\n",
      "Nearly always                   0.053452\n",
      "Sometimes                       0.024499\n",
      "Never                           0.018560\n",
      "Never drive or ride in a car    0.008909\n",
      "Seldom                          0.007424\n",
      "Refused                         0.003712\n",
      "Dont know/Not sure             0.002227\n",
      "Name: SEATBELT, dtype: float64\n",
      "\n",
      "DRNKDRI2 Not asked or Missing    0.552339\n",
      "None                    0.438753\n",
      "Number of days          0.006682\n",
      "Refused                 0.001485\n",
      "Dont know/Not sure     0.000742\n",
      "Name: DRNKDRI2, dtype: float64\n",
      "\n",
      "BLDSTOOL No                      0.443207\n",
      "Not asked or Missing    0.338530\n",
      "Yes                     0.212324\n",
      "Dont know/Not Sure     0.003712\n",
      "Refused                 0.002227\n",
      "Name: BLDSTOOL, dtype: float64\n",
      "\n",
      "PDIABTST Not asked or Missing    0.767632\n",
      "Yes                     0.140312\n",
      "No                      0.082405\n",
      "Dont know/Not Sure     0.009651\n",
      "Name: PDIABTST, dtype: float64\n",
      "\n",
      "PREDIAB1 Not asked or Missing    0.767632\n",
      "No                      0.205642\n",
      "Yes                     0.025241\n",
      "Dont know/Not Sure     0.000742\n",
      "Yes during pregnancy    0.000742\n",
      "Name: PREDIAB1, dtype: float64\n",
      "\n",
      "ASBIRDUC Not asked or Missing    0.743133\n",
      "No                      0.219005\n",
      "Yes                     0.028953\n",
      "Dont know/Not Sure     0.005939\n",
      "Refused                 0.002970\n",
      "Name: ASBIRDUC, dtype: float64\n",
      "\n",
      "BMI5 1 or greater                  0.917595\n",
      "Dont know/Refused/Missing    0.082405\n",
      "Name: BMI5, dtype: float64\n",
      "\n",
      "BMI5CAT Obese                         0.337788\n",
      "Overweight                    0.305865\n",
      "Normal Weight                 0.259094\n",
      "Dont know/Refused/Missing    0.082405\n",
      "Underweight                   0.014848\n",
      "Name: BMI5CAT, dtype: float64\n",
      "\n",
      "RFBMI5 Yes                           0.643653\n",
      "No                            0.273942\n",
      "Dont know/Refused/Missing    0.082405\n",
      "Name: RFBMI5, dtype: float64\n",
      "\n",
      "CHLDCNT No children in household              0.747587\n",
      "One child in household                0.110616\n",
      "Two children in household             0.085375\n",
      "Three children in household           0.031180\n",
      "Four children in household            0.013363\n",
      "Dont know/Not sure/Missing           0.007424\n",
      "Five or more children in household    0.004454\n",
      "Name: CHLDCNT, dtype: float64\n",
      "\n",
      "SMOKER3 Never smoked                             0.512992\n",
      "Former smoker                            0.301411\n",
      "Current smoker - now smokes every day    0.085375\n",
      "Dont know/Refused/Missing               0.059391\n",
      "Current smoker - now smokes some days    0.040831\n",
      "Name: SMOKER3, dtype: float64\n",
      "\n",
      "RFSMOK3 No                            0.814402\n",
      "Yes                           0.126206\n",
      "Dont know/Refused/Missing    0.059391\n",
      "Name: RFSMOK3, dtype: float64\n",
      "\n",
      "DRNKANY5 No                     0.481069\n",
      "Yes                    0.452858\n",
      "Refused/Missing        0.060876\n",
      "Dont know/Not Sure    0.005197\n",
      "Name: DRNKANY5, dtype: float64\n",
      "\n",
      "DROCDY3 No Drink-Occasions per day                0.481069\n",
      "Drink-Occasions per day                   0.452858\n",
      "Dont know/Not Sure Or Refused/Missing    0.066073\n",
      "Name: DROCDY3, dtype: float64\n",
      "\n",
      "RFBING5 No                            0.838901\n",
      "Yes                           0.082405\n",
      "Dont know/Refused/Missing    0.078693\n",
      "Name: RFBING5, dtype: float64\n",
      "\n",
      "DRNKDY4 Did not drink                          0.481069\n",
      "Number of drinks per day               0.441722\n",
      "Dont know/Not sure/Refused/Missing    0.077209\n",
      "Name: DRNKDY4, dtype: float64\n",
      "\n",
      "DRNKMO4 Did not drink in the past month    0.481069\n",
      "Number of Drinks                   0.441722\n",
      "Dont know/Refused/Missing         0.077209\n",
      "Name: DRNKMO4, dtype: float64\n",
      "\n",
      "RFDRHV4 No                            0.885672\n",
      "Dont know/Refused/Missing    0.077209\n",
      "Yes                           0.037120\n",
      "Name: RFDRHV4, dtype: float64\n",
      "\n",
      "RFDRMN4 Respondent is female          0.555308\n",
      "No                            0.396437\n",
      "Dont know/Refused/Missing    0.033408\n",
      "Yes                           0.014848\n",
      "Name: RFDRMN4, dtype: float64\n",
      "\n",
      "RFDRWM4 No                            0.489235\n",
      "Respondent is male            0.444692\n",
      "Dont know/Refused/Missing    0.043801\n",
      "Yes                           0.022272\n",
      "Name: RFDRWM4, dtype: float64\n",
      "\n",
      "FLSHOT6 Age Less Than 65                          0.593170\n",
      "Yes                                       0.219748\n",
      "No                                        0.146993\n",
      "Dont know/Not Sure Or Refused/Missing    0.040089\n",
      "Name: FLSHOT6, dtype: float64\n",
      "\n",
      "PNEUMO2 Age Less Than 65                          0.593170\n",
      "Yes                                       0.242762\n",
      "No                                        0.109874\n",
      "Dont know/Not Sure Or Refused/Missing    0.054195\n",
      "Name: PNEUMO2, dtype: float64\n",
      "\n",
      "RFSEAT2 Always or Almost Always Wear Seat Belt      0.867112\n",
      "Dont know/Not Sure Or Refused/Missing      0.082405\n",
      "Sometimes Seldom or Never Wear Seat Belt    0.050483\n",
      "Name: RFSEAT2, dtype: float64\n",
      "\n",
      "RFSEAT3 Always Wear Seat Belt                     0.813660\n",
      "Dont Always Wear Seat Belt               0.103935\n",
      "Dont know/Not Sure Or Refused/Missing    0.082405\n",
      "Name: RFSEAT3, dtype: float64\n",
      "\n",
      "RFBLDS2 No                             0.553081\n",
      "Missing or Age less than 50    0.337045\n",
      "Yes                            0.088344\n",
      "Dont know/Not Sure/Refused    0.021529\n",
      "Name: RFBLDS2, dtype: float64\n",
      "\n",
      "RFBLDS3 Missing Age less than 50 Age greater than 75       0.505568\n",
      "Hve not had a blood stool test in the past year    0.446919\n",
      "Had a blood stool test in the past year            0.047513\n",
      "Name: RFBLDS3, dtype: float64\n",
      "\n",
      "HFOB3YR Missing or Age less than 50 or Age greater than 75     0.505568\n",
      "Did not receive a home FOBT within the past 3 years    0.413512\n",
      "Received a home FOBT within the past 3 years           0.080921\n",
      "Name: HFOB3YR, dtype: float64\n",
      "\n",
      "FOBTFS Missing or Age less than 50 or Age greater than 75                                                                       0.554566\n",
      "Did not receive a sigmoidoscopy within the past 5 years or did not receive a blood stool test within the past 3 years    0.443950\n",
      "Did have had a sigmoidoscopy within the past 5 years and a blood stool test within the past 3 years.                     0.001485\n",
      "Name: FOBTFS, dtype: float64\n",
      "\n",
      "SSBSUGAR Not asked or Missing    0.581292\n",
      "Never                   0.230883\n",
      "Times per month         0.085375\n",
      "Times per week          0.054937\n",
      "Times per day           0.042316\n",
      "Refused                 0.002970\n",
      "Dont know/Not sure     0.002227\n",
      "Name: SSBSUGAR, dtype: float64\n",
      "\n",
      "SSBFRUT2 Not asked or Missing    0.582034\n",
      "Never                   0.269488\n",
      "Times per week          0.057164\n",
      "Times per month         0.052710\n",
      "Times per day           0.034150\n",
      "Dont know/Not sure     0.002970\n",
      "Refused                 0.001485\n",
      "Name: SSBFRUT2, dtype: float64\n",
      "\n",
      "HEALTHCL1 Not asked or Missing    0.692650\n",
      "No                      0.243504\n",
      "Yes                     0.063103\n",
      "Not sure/dont know      0.000742\n",
      "Name: HEALTHCL1, dtype: float64\n",
      "\n",
      "LIFECHG Not asked or Missing    0.582777\n",
      "No                      0.322197\n",
      "Yes                     0.093541\n",
      "Refused                 0.001485\n",
      "Name: LIFECHG, dtype: float64\n",
      "\n",
      "CNCSUMM Not asked or Missing    0.930958\n",
      "No                      0.040831\n",
      "Yes                     0.025241\n",
      "Refused                 0.001485\n",
      "Not sure/dont know      0.001485\n",
      "Name: CNCSUMM, dtype: float64\n",
      "\n",
      "CNCINSTR Not asked or Missing    0.930958\n",
      "Yes                     0.049740\n",
      "No                      0.017817\n",
      "Refused                 0.001485\n",
      "Name: CNCINSTR, dtype: float64\n",
      "\n",
      "CDCPAID Not asked or Missing    0.930958\n",
      "Yes                     0.063103\n",
      "No                      0.003712\n",
      "Refused                 0.002227\n",
      "Name: CDCPAID, dtype: float64\n",
      "\n",
      "CNCNOINS Not asked or Missing    0.930958\n",
      "No                      0.062361\n",
      "Yes                     0.005939\n",
      "Refused                 0.000742\n",
      "Name: CNCNOINS, dtype: float64\n",
      "\n",
      "HCVHEAR Not asked or Missing    0.582777\n",
      "Yes                     0.381589\n",
      "No                      0.034150\n",
      "Refused                 0.000742\n",
      "Not sure/dont know      0.000742\n",
      "Name: HCVHEAR, dtype: float64\n",
      "\n",
      "HCVTEST Not asked or Missing    0.582777\n",
      "No                      0.256125\n",
      "Yes                     0.117298\n",
      "Not sure/dont know      0.042316\n",
      "Refused                 0.001485\n",
      "Name: HCVTEST, dtype: float64\n",
      "\n",
      "HCVINPTE Not asked or Missing    0.899777\n",
      "No                      0.076466\n",
      "Not sure/dont know      0.014105\n",
      "Yes                     0.009651\n",
      "Name: HCVINPTE, dtype: float64\n",
      "\n",
      "HCVINPTA Not asked or Missing    0.990349\n",
      "Yes                     0.007424\n",
      "No                      0.001485\n",
      "Not sure/dont know      0.000742\n",
      "Name: HCVINPTA, dtype: float64\n",
      "\n",
      "HCVPRIME Not asked or Missing    0.686711\n",
      "No                      0.255382\n",
      "Yes                     0.029696\n",
      "Not sure/dont know      0.027468\n",
      "Refused                 0.000742\n",
      "Name: HCVPRIME, dtype: float64\n",
      "\n",
      "HCVPRIMA Not asked or Missing    0.970304\n",
      "Yes                     0.020787\n",
      "No                      0.008166\n",
      "Not sure/dont know      0.000742\n",
      "Name: HCVPRIMA, dtype: float64\n",
      "\n",
      "HLTHPREG Not asked or Missing    0.955457\n",
      "No                      0.029696\n",
      "Yes                     0.013363\n",
      "Refused                 0.000742\n",
      "Not sure/dont know      0.000742\n",
      "Name: HLTHPREG, dtype: float64\n",
      "\n",
      "PREGEVER Not asked or Missing    0.956941\n",
      "Yes                     0.026726\n",
      "No                      0.016333\n",
      "Name: PREGEVER, dtype: float64\n",
      "\n",
      "PFCHLDFT Not asked or Missing    0.963623\n",
      "Number of days          0.036377\n",
      "Name: PFCHLDFT, dtype: float64\n",
      "\n",
      "REGION NYS exclusive of NYC    0.567929\n",
      "New York City (NYC)     0.432071\n",
      "Name: REGION, dtype: float64\n",
      "\n"
     ]
    }
   ],
   "source": [
    "for var in categorical:\n",
    "    print(var, X_train[var].value_counts()/np.float(len(X_train)))\n",
    "    print()"
   ]
  },
  {
   "cell_type": "code",
   "execution_count": 65,
   "metadata": {},
   "outputs": [
    {
     "data": {
      "text/plain": [
       "<matplotlib.axes._subplots.AxesSubplot at 0x20940ff1b00>"
      ]
     },
     "execution_count": 65,
     "metadata": {},
     "output_type": "execute_result"
    },
    {
     "data": {
      "image/png": "[encoded data removed]",
      "text/plain": [
       "<matplotlib.figure.Figure at 0x2093a55e2e8>"
      ]
     },
     "metadata": {},
     "output_type": "display_data"
    }
   ],
   "source": [
    "sns.countplot(x='BLIND',data=dataset)"
   ]
  },
  {
   "cell_type": "markdown",
   "metadata": {},
   "source": [
    "If we look at above chart, we can clearly see that there are technically just 2 categories here, Yes and no, as rest entries can simply add to model overfitting,\n",
    "we got alot of such columns which needs to be handled, as shown below"
   ]
  },
  {
   "cell_type": "code",
   "execution_count": 66,
   "metadata": {},
   "outputs": [
    {
     "data": {
      "text/plain": [
       "<matplotlib.axes._subplots.AxesSubplot at 0x209413685c0>"
      ]
     },
     "execution_count": 66,
     "metadata": {},
     "output_type": "execute_result"
    },
    {
     "data": {
      "image/png": "[encoded data removed]",
      "text/plain": [
       "<matplotlib.figure.Figure at 0x2093a553630>"
      ]
     },
     "metadata": {},
     "output_type": "display_data"
    }
   ],
   "source": [
    "sns.countplot(x='PREGNANT',data=dataset)"
   ]
  },
  {
   "cell_type": "markdown",
   "metadata": {},
   "source": [
    "Hence, I would suggest to first use a Dimensionality Reduction algorithm like PCA or SVG and then CARRY Out further category reduction on remaining features, but can be done in later part of optimization."
   ]
  },
  {
   "cell_type": "code",
   "execution_count": 67,
   "metadata": {},
   "outputs": [
    {
     "name": "stderr",
     "output_type": "stream",
     "text": [
      "C:\\Users\\sugat\\Anaconda3\\lib\\site-packages\\ipykernel_launcher.py:6: SettingWithCopyWarning: \n",
      "A value is trying to be set on a copy of a slice from a DataFrame.\n",
      "Try using .loc[row_indexer,col_indexer] = value instead\n",
      "\n",
      "See the caveats in the documentation: http://pandas.pydata.org/pandas-docs/stable/indexing.html#indexing-view-versus-copy\n",
      "  \n",
      "C:\\Users\\sugat\\Anaconda3\\lib\\site-packages\\ipykernel_launcher.py:7: SettingWithCopyWarning: \n",
      "A value is trying to be set on a copy of a slice from a DataFrame.\n",
      "Try using .loc[row_indexer,col_indexer] = value instead\n",
      "\n",
      "See the caveats in the documentation: http://pandas.pydata.org/pandas-docs/stable/indexing.html#indexing-view-versus-copy\n",
      "  import sys\n"
     ]
    }
   ],
   "source": [
    "#finally encoding categorial variables\n",
    "categorical = [var for var in categorical]\n",
    "for col in categorical:\n",
    "    ordered_labels = X_train.groupby([col])['DIABETE3'].mean().to_dict()  \n",
    "    # encode variables\n",
    "    X_train[col] = X_train[col].map(ordered_labels)\n",
    "    X_test[col] = X_test[col].map(ordered_labels)"
   ]
  },
  {
   "cell_type": "code",
   "execution_count": 68,
   "metadata": {},
   "outputs": [
    {
     "data": {
      "text/html": [
       "<div>\n",
       "<style scoped>\n",
       "    .dataframe tbody tr th:only-of-type {\n",
       "        vertical-align: middle;\n",
       "    }\n",
       "\n",
       "    .dataframe tbody tr th {\n",
       "        vertical-align: top;\n",
       "    }\n",
       "\n",
       "    .dataframe thead th {\n",
       "        text-align: right;\n",
       "    }\n",
       "</style>\n",
       "<table border=\"1\" class=\"dataframe\">\n",
       "  <thead>\n",
       "    <tr style=\"text-align: right;\">\n",
       "      <th></th>\n",
       "      <th>GEOSTR</th>\n",
       "      <th>DISPCODE</th>\n",
       "      <th>PVTRESD1</th>\n",
       "      <th>COLGHOUS</th>\n",
       "      <th>CELLFON3</th>\n",
       "      <th>GENHLTH</th>\n",
       "      <th>PHYSHLTH</th>\n",
       "      <th>MENTHLTH</th>\n",
       "      <th>POORHLTH</th>\n",
       "      <th>HLTHPLN1</th>\n",
       "      <th>...</th>\n",
       "      <th>HCVHEAR</th>\n",
       "      <th>HCVTEST</th>\n",
       "      <th>HCVINPTE</th>\n",
       "      <th>HCVINPTA</th>\n",
       "      <th>HCVPRIME</th>\n",
       "      <th>HCVPRIMA</th>\n",
       "      <th>HLTHPREG</th>\n",
       "      <th>PREGEVER</th>\n",
       "      <th>PFCHLDFT</th>\n",
       "      <th>REGION</th>\n",
       "    </tr>\n",
       "  </thead>\n",
       "  <tbody>\n",
       "    <tr>\n",
       "      <th>45</th>\n",
       "      <td>101</td>\n",
       "      <td>1100</td>\n",
       "      <td>0.547931</td>\n",
       "      <td>0.498144</td>\n",
       "      <td>0.547931</td>\n",
       "      <td>0.303030</td>\n",
       "      <td>0.406711</td>\n",
       "      <td>0.488235</td>\n",
       "      <td>0.427305</td>\n",
       "      <td>0.508857</td>\n",
       "      <td>...</td>\n",
       "      <td>0.515564</td>\n",
       "      <td>0.513043</td>\n",
       "      <td>0.487624</td>\n",
       "      <td>0.496252</td>\n",
       "      <td>0.558140</td>\n",
       "      <td>0.493497</td>\n",
       "      <td>0.508159</td>\n",
       "      <td>0.508146</td>\n",
       "      <td>0.506934</td>\n",
       "      <td>0.491503</td>\n",
       "    </tr>\n",
       "    <tr>\n",
       "      <th>775</th>\n",
       "      <td>201</td>\n",
       "      <td>1200</td>\n",
       "      <td>0.359551</td>\n",
       "      <td>0.498144</td>\n",
       "      <td>0.359551</td>\n",
       "      <td>0.724576</td>\n",
       "      <td>0.613718</td>\n",
       "      <td>0.513216</td>\n",
       "      <td>0.483627</td>\n",
       "      <td>0.508857</td>\n",
       "      <td>...</td>\n",
       "      <td>0.495541</td>\n",
       "      <td>0.495541</td>\n",
       "      <td>0.487624</td>\n",
       "      <td>0.496252</td>\n",
       "      <td>0.469189</td>\n",
       "      <td>0.493497</td>\n",
       "      <td>0.508159</td>\n",
       "      <td>0.508146</td>\n",
       "      <td>0.506934</td>\n",
       "      <td>0.491503</td>\n",
       "    </tr>\n",
       "    <tr>\n",
       "      <th>379</th>\n",
       "      <td>101</td>\n",
       "      <td>1100</td>\n",
       "      <td>0.547931</td>\n",
       "      <td>0.498144</td>\n",
       "      <td>0.547931</td>\n",
       "      <td>0.571749</td>\n",
       "      <td>0.406711</td>\n",
       "      <td>0.488235</td>\n",
       "      <td>0.427305</td>\n",
       "      <td>0.508857</td>\n",
       "      <td>...</td>\n",
       "      <td>0.495541</td>\n",
       "      <td>0.495541</td>\n",
       "      <td>0.487624</td>\n",
       "      <td>0.496252</td>\n",
       "      <td>0.469189</td>\n",
       "      <td>0.493497</td>\n",
       "      <td>0.508159</td>\n",
       "      <td>0.508146</td>\n",
       "      <td>0.506934</td>\n",
       "      <td>0.491503</td>\n",
       "    </tr>\n",
       "    <tr>\n",
       "      <th>61</th>\n",
       "      <td>101</td>\n",
       "      <td>1100</td>\n",
       "      <td>0.547931</td>\n",
       "      <td>0.498144</td>\n",
       "      <td>0.547931</td>\n",
       "      <td>0.724576</td>\n",
       "      <td>0.613718</td>\n",
       "      <td>0.513216</td>\n",
       "      <td>0.617080</td>\n",
       "      <td>0.508857</td>\n",
       "      <td>...</td>\n",
       "      <td>0.515564</td>\n",
       "      <td>0.506329</td>\n",
       "      <td>0.487624</td>\n",
       "      <td>0.496252</td>\n",
       "      <td>0.558140</td>\n",
       "      <td>0.493497</td>\n",
       "      <td>0.508159</td>\n",
       "      <td>0.508146</td>\n",
       "      <td>0.506934</td>\n",
       "      <td>0.491503</td>\n",
       "    </tr>\n",
       "    <tr>\n",
       "      <th>853</th>\n",
       "      <td>101</td>\n",
       "      <td>1200</td>\n",
       "      <td>0.547931</td>\n",
       "      <td>0.498144</td>\n",
       "      <td>0.547931</td>\n",
       "      <td>0.140244</td>\n",
       "      <td>0.406711</td>\n",
       "      <td>0.488235</td>\n",
       "      <td>0.427305</td>\n",
       "      <td>0.508857</td>\n",
       "      <td>...</td>\n",
       "      <td>0.495541</td>\n",
       "      <td>0.495541</td>\n",
       "      <td>0.487624</td>\n",
       "      <td>0.496252</td>\n",
       "      <td>0.469189</td>\n",
       "      <td>0.493497</td>\n",
       "      <td>0.508159</td>\n",
       "      <td>0.508146</td>\n",
       "      <td>0.506934</td>\n",
       "      <td>0.491503</td>\n",
       "    </tr>\n",
       "  </tbody>\n",
       "</table>\n",
       "<p>5 rows × 90 columns</p>\n",
       "</div>"
      ],
      "text/plain": [
       "     GEOSTR  DISPCODE  PVTRESD1  COLGHOUS  CELLFON3   GENHLTH  PHYSHLTH  \\\n",
       "45      101      1100  0.547931  0.498144  0.547931  0.303030  0.406711   \n",
       "775     201      1200  0.359551  0.498144  0.359551  0.724576  0.613718   \n",
       "379     101      1100  0.547931  0.498144  0.547931  0.571749  0.406711   \n",
       "61      101      1100  0.547931  0.498144  0.547931  0.724576  0.613718   \n",
       "853     101      1200  0.547931  0.498144  0.547931  0.140244  0.406711   \n",
       "\n",
       "     MENTHLTH  POORHLTH  HLTHPLN1    ...      HCVHEAR   HCVTEST  HCVINPTE  \\\n",
       "45   0.488235  0.427305  0.508857    ...     0.515564  0.513043  0.487624   \n",
       "775  0.513216  0.483627  0.508857    ...     0.495541  0.495541  0.487624   \n",
       "379  0.488235  0.427305  0.508857    ...     0.495541  0.495541  0.487624   \n",
       "61   0.513216  0.617080  0.508857    ...     0.515564  0.506329  0.487624   \n",
       "853  0.488235  0.427305  0.508857    ...     0.495541  0.495541  0.487624   \n",
       "\n",
       "     HCVINPTA  HCVPRIME  HCVPRIMA  HLTHPREG  PREGEVER  PFCHLDFT    REGION  \n",
       "45   0.496252  0.558140  0.493497  0.508159  0.508146  0.506934  0.491503  \n",
       "775  0.496252  0.469189  0.493497  0.508159  0.508146  0.506934  0.491503  \n",
       "379  0.496252  0.469189  0.493497  0.508159  0.508146  0.506934  0.491503  \n",
       "61   0.496252  0.558140  0.493497  0.508159  0.508146  0.506934  0.491503  \n",
       "853  0.496252  0.469189  0.493497  0.508159  0.508146  0.506934  0.491503  \n",
       "\n",
       "[5 rows x 90 columns]"
      ]
     },
     "execution_count": 68,
     "metadata": {},
     "output_type": "execute_result"
    }
   ],
   "source": [
    "X_train.head()"
   ]
  },
  {
   "cell_type": "code",
   "execution_count": 71,
   "metadata": {},
   "outputs": [
    {
     "data": {
      "text/html": [
       "<div>\n",
       "<style scoped>\n",
       "    .dataframe tbody tr th:only-of-type {\n",
       "        vertical-align: middle;\n",
       "    }\n",
       "\n",
       "    .dataframe tbody tr th {\n",
       "        vertical-align: top;\n",
       "    }\n",
       "\n",
       "    .dataframe thead th {\n",
       "        text-align: right;\n",
       "    }\n",
       "</style>\n",
       "<table border=\"1\" class=\"dataframe\">\n",
       "  <thead>\n",
       "    <tr style=\"text-align: right;\">\n",
       "      <th></th>\n",
       "      <th>GEOSTR</th>\n",
       "      <th>DISPCODE</th>\n",
       "      <th>PVTRESD1</th>\n",
       "      <th>COLGHOUS</th>\n",
       "      <th>CELLFON3</th>\n",
       "      <th>GENHLTH</th>\n",
       "      <th>PHYSHLTH</th>\n",
       "      <th>MENTHLTH</th>\n",
       "      <th>POORHLTH</th>\n",
       "      <th>HLTHPLN1</th>\n",
       "      <th>...</th>\n",
       "      <th>HCVHEAR</th>\n",
       "      <th>HCVTEST</th>\n",
       "      <th>HCVINPTE</th>\n",
       "      <th>HCVINPTA</th>\n",
       "      <th>HCVPRIME</th>\n",
       "      <th>HCVPRIMA</th>\n",
       "      <th>HLTHPREG</th>\n",
       "      <th>PREGEVER</th>\n",
       "      <th>PFCHLDFT</th>\n",
       "      <th>REGION</th>\n",
       "    </tr>\n",
       "  </thead>\n",
       "  <tbody>\n",
       "    <tr>\n",
       "      <th>34</th>\n",
       "      <td>101</td>\n",
       "      <td>1100</td>\n",
       "      <td>0.547931</td>\n",
       "      <td>0.498144</td>\n",
       "      <td>0.547931</td>\n",
       "      <td>0.416667</td>\n",
       "      <td>0.613718</td>\n",
       "      <td>0.513216</td>\n",
       "      <td>0.617080</td>\n",
       "      <td>0.366337</td>\n",
       "      <td>...</td>\n",
       "      <td>0.515564</td>\n",
       "      <td>0.513043</td>\n",
       "      <td>0.572816</td>\n",
       "      <td>0.496252</td>\n",
       "      <td>0.469189</td>\n",
       "      <td>0.493497</td>\n",
       "      <td>0.508159</td>\n",
       "      <td>0.508146</td>\n",
       "      <td>0.506934</td>\n",
       "      <td>0.491503</td>\n",
       "    </tr>\n",
       "    <tr>\n",
       "      <th>268</th>\n",
       "      <td>102</td>\n",
       "      <td>1100</td>\n",
       "      <td>0.547931</td>\n",
       "      <td>0.498144</td>\n",
       "      <td>0.547931</td>\n",
       "      <td>0.571749</td>\n",
       "      <td>0.406711</td>\n",
       "      <td>0.488235</td>\n",
       "      <td>0.427305</td>\n",
       "      <td>0.508857</td>\n",
       "      <td>...</td>\n",
       "      <td>0.515564</td>\n",
       "      <td>0.513043</td>\n",
       "      <td>0.487624</td>\n",
       "      <td>0.496252</td>\n",
       "      <td>0.469189</td>\n",
       "      <td>0.493497</td>\n",
       "      <td>0.508159</td>\n",
       "      <td>0.508146</td>\n",
       "      <td>0.506934</td>\n",
       "      <td>0.491503</td>\n",
       "    </tr>\n",
       "    <tr>\n",
       "      <th>704</th>\n",
       "      <td>202</td>\n",
       "      <td>1100</td>\n",
       "      <td>0.359551</td>\n",
       "      <td>0.498144</td>\n",
       "      <td>0.359551</td>\n",
       "      <td>0.571749</td>\n",
       "      <td>0.613718</td>\n",
       "      <td>0.488235</td>\n",
       "      <td>0.617080</td>\n",
       "      <td>0.508857</td>\n",
       "      <td>...</td>\n",
       "      <td>0.515564</td>\n",
       "      <td>0.506329</td>\n",
       "      <td>0.487624</td>\n",
       "      <td>0.496252</td>\n",
       "      <td>0.650000</td>\n",
       "      <td>0.714286</td>\n",
       "      <td>0.508159</td>\n",
       "      <td>0.508146</td>\n",
       "      <td>0.506934</td>\n",
       "      <td>0.506873</td>\n",
       "    </tr>\n",
       "    <tr>\n",
       "      <th>1177</th>\n",
       "      <td>101</td>\n",
       "      <td>1100</td>\n",
       "      <td>0.547931</td>\n",
       "      <td>0.498144</td>\n",
       "      <td>0.547931</td>\n",
       "      <td>0.571749</td>\n",
       "      <td>0.613718</td>\n",
       "      <td>0.488235</td>\n",
       "      <td>0.483627</td>\n",
       "      <td>0.508857</td>\n",
       "      <td>...</td>\n",
       "      <td>0.515564</td>\n",
       "      <td>0.506329</td>\n",
       "      <td>0.487624</td>\n",
       "      <td>0.496252</td>\n",
       "      <td>0.558140</td>\n",
       "      <td>0.493497</td>\n",
       "      <td>0.508159</td>\n",
       "      <td>0.508146</td>\n",
       "      <td>0.506934</td>\n",
       "      <td>0.491503</td>\n",
       "    </tr>\n",
       "    <tr>\n",
       "      <th>1210</th>\n",
       "      <td>201</td>\n",
       "      <td>1100</td>\n",
       "      <td>0.359551</td>\n",
       "      <td>0.498144</td>\n",
       "      <td>0.359551</td>\n",
       "      <td>0.724576</td>\n",
       "      <td>0.461538</td>\n",
       "      <td>0.513216</td>\n",
       "      <td>0.617080</td>\n",
       "      <td>0.508857</td>\n",
       "      <td>...</td>\n",
       "      <td>0.515564</td>\n",
       "      <td>0.513043</td>\n",
       "      <td>0.487624</td>\n",
       "      <td>0.496252</td>\n",
       "      <td>0.558140</td>\n",
       "      <td>0.493497</td>\n",
       "      <td>0.508159</td>\n",
       "      <td>0.508146</td>\n",
       "      <td>0.506934</td>\n",
       "      <td>0.491503</td>\n",
       "    </tr>\n",
       "  </tbody>\n",
       "</table>\n",
       "<p>5 rows × 90 columns</p>\n",
       "</div>"
      ],
      "text/plain": [
       "      GEOSTR  DISPCODE  PVTRESD1  COLGHOUS  CELLFON3   GENHLTH  PHYSHLTH  \\\n",
       "34       101      1100  0.547931  0.498144  0.547931  0.416667  0.613718   \n",
       "268      102      1100  0.547931  0.498144  0.547931  0.571749  0.406711   \n",
       "704      202      1100  0.359551  0.498144  0.359551  0.571749  0.613718   \n",
       "1177     101      1100  0.547931  0.498144  0.547931  0.571749  0.613718   \n",
       "1210     201      1100  0.359551  0.498144  0.359551  0.724576  0.461538   \n",
       "\n",
       "      MENTHLTH  POORHLTH  HLTHPLN1    ...      HCVHEAR   HCVTEST  HCVINPTE  \\\n",
       "34    0.513216  0.617080  0.366337    ...     0.515564  0.513043  0.572816   \n",
       "268   0.488235  0.427305  0.508857    ...     0.515564  0.513043  0.487624   \n",
       "704   0.488235  0.617080  0.508857    ...     0.515564  0.506329  0.487624   \n",
       "1177  0.488235  0.483627  0.508857    ...     0.515564  0.506329  0.487624   \n",
       "1210  0.513216  0.617080  0.508857    ...     0.515564  0.513043  0.487624   \n",
       "\n",
       "      HCVINPTA  HCVPRIME  HCVPRIMA  HLTHPREG  PREGEVER  PFCHLDFT    REGION  \n",
       "34    0.496252  0.469189  0.493497  0.508159  0.508146  0.506934  0.491503  \n",
       "268   0.496252  0.469189  0.493497  0.508159  0.508146  0.506934  0.491503  \n",
       "704   0.496252  0.650000  0.714286  0.508159  0.508146  0.506934  0.506873  \n",
       "1177  0.496252  0.558140  0.493497  0.508159  0.508146  0.506934  0.491503  \n",
       "1210  0.496252  0.558140  0.493497  0.508159  0.508146  0.506934  0.491503  \n",
       "\n",
       "[5 rows x 90 columns]"
      ]
     },
     "execution_count": 71,
     "metadata": {},
     "output_type": "execute_result"
    }
   ],
   "source": [
    "#Similarly for X_test\n",
    "X_test.head()"
   ]
  },
  {
   "cell_type": "code",
   "execution_count": 72,
   "metadata": {},
   "outputs": [
    {
     "name": "stderr",
     "output_type": "stream",
     "text": [
      "C:\\Users\\sugat\\Anaconda3\\lib\\site-packages\\ipykernel_launcher.py:6: SettingWithCopyWarning: \n",
      "A value is trying to be set on a copy of a slice from a DataFrame\n",
      "\n",
      "See the caveats in the documentation: http://pandas.pydata.org/pandas-docs/stable/indexing.html#indexing-view-versus-copy\n",
      "  \n",
      "C:\\Users\\sugat\\Anaconda3\\lib\\site-packages\\ipykernel_launcher.py:7: SettingWithCopyWarning: \n",
      "A value is trying to be set on a copy of a slice from a DataFrame\n",
      "\n",
      "See the caveats in the documentation: http://pandas.pydata.org/pandas-docs/stable/indexing.html#indexing-view-versus-copy\n",
      "  import sys\n"
     ]
    }
   ],
   "source": [
    "# Splitting the Training set in label and features\n",
    "y_train = X_train['DIABETE3']\n",
    "y_test = X_test['DIABETE3']\n",
    "\n",
    "# and then removing 'DIABETE3' from training set\n",
    "X_train.drop(labels=['DIABETE3'], inplace=True, axis=1)\n",
    "X_test.drop(labels=['DIABETE3'], inplace=True, axis=1)\n"
   ]
  },
  {
   "cell_type": "code",
   "execution_count": 73,
   "metadata": {},
   "outputs": [
    {
     "data": {
      "text/plain": [
       "45     1\n",
       "775    1\n",
       "379    1\n",
       "61     1\n",
       "853    0\n",
       "Name: DIABETE3, dtype: int32"
      ]
     },
     "execution_count": 73,
     "metadata": {},
     "output_type": "execute_result"
    }
   ],
   "source": [
    "y_train.head()"
   ]
  },
  {
   "cell_type": "code",
   "execution_count": 79,
   "metadata": {},
   "outputs": [
    {
     "data": {
      "text/plain": [
       "False"
      ]
     },
     "execution_count": 79,
     "metadata": {},
     "output_type": "execute_result"
    }
   ],
   "source": [
    "# Let us just cross-check if our dataset contains any null values befr we proceed\n",
    "X_train.isnull().values.any()"
   ]
  },
  {
   "cell_type": "code",
   "execution_count": 81,
   "metadata": {},
   "outputs": [
    {
     "data": {
      "text/plain": [
       "True"
      ]
     },
     "execution_count": 81,
     "metadata": {},
     "output_type": "execute_result"
    }
   ],
   "source": [
    "X_test.isnull().values.any()"
   ]
  },
  {
   "cell_type": "code",
   "execution_count": 85,
   "metadata": {},
   "outputs": [],
   "source": [
    "# So our test set contains Null values, so for now I will just fill it will 0\n",
    "X_test = X_test.fillna(0)"
   ]
  },
  {
   "cell_type": "code",
   "execution_count": 86,
   "metadata": {},
   "outputs": [
    {
     "data": {
      "text/plain": [
       "False"
      ]
     },
     "execution_count": 86,
     "metadata": {},
     "output_type": "execute_result"
    }
   ],
   "source": [
    "X_test.isnull().values.any()"
   ]
  },
  {
   "cell_type": "markdown",
   "metadata": {},
   "source": [
    "As stated above, I can even carry out correlation calculation, to remove features which are highly correlated above a certain threshold, but can be done in later optimization"
   ]
  },
  {
   "cell_type": "markdown",
   "metadata": {},
   "source": [
    "### Running Prediction Algorithms to find out faulty values"
   ]
  },
  {
   "cell_type": "markdown",
   "metadata": {},
   "source": [
    "### SVM"
   ]
  },
  {
   "cell_type": "code",
   "execution_count": 87,
   "metadata": {},
   "outputs": [
    {
     "data": {
      "text/plain": [
       "SVC(C=1.0, cache_size=200, class_weight=None, coef0=0.0,\n",
       "  decision_function_shape='ovr', degree=3, gamma='auto', kernel='rbf',\n",
       "  max_iter=-1, probability=False, random_state=None, shrinking=True,\n",
       "  tol=0.001, verbose=False)"
      ]
     },
     "execution_count": 87,
     "metadata": {},
     "output_type": "execute_result"
    }
   ],
   "source": [
    "from sklearn.svm import SVC\n",
    "clf = SVC()\n",
    "clf.fit(X_train, y_train)"
   ]
  },
  {
   "cell_type": "code",
   "execution_count": 88,
   "metadata": {},
   "outputs": [],
   "source": [
    "pred = clf.predict(X_test)"
   ]
  },
  {
   "cell_type": "code",
   "execution_count": 89,
   "metadata": {},
   "outputs": [
    {
     "data": {
      "text/plain": [
       "0.7210682492581603"
      ]
     },
     "execution_count": 89,
     "metadata": {},
     "output_type": "execute_result"
    }
   ],
   "source": [
    "#Calculating accuracy for given predictions\n",
    "from sklearn.metrics import accuracy_score\n",
    "accuracy_score(y_test, pred)"
   ]
  },
  {
   "cell_type": "code",
   "execution_count": 91,
   "metadata": {},
   "outputs": [],
   "source": [
    "from sklearn.metrics import roc_auc_score\n",
    "from sklearn import metrics\n",
    "from sklearn.metrics import roc_curve, auc\n",
    "\n",
    "fpr, tpr, thresholds = metrics.roc_curve(y_test,pred)"
   ]
  },
  {
   "cell_type": "code",
   "execution_count": 92,
   "metadata": {},
   "outputs": [
    {
     "data": {
      "image/png": "[encoded data removed]",
      "text/plain": [
       "<matplotlib.figure.Figure at 0x20941494358>"
      ]
     },
     "metadata": {},
     "output_type": "display_data"
    }
   ],
   "source": [
    "roc_auc = auc(fpr, tpr)\n",
    "plt.title('Receiver Operating Characteristic')\n",
    "plt.plot(fpr, tpr, 'b', label = 'AUC = %0.2f' % roc_auc)\n",
    "plt.legend(loc = 'lower right')\n",
    "plt.plot([0, 1], [0, 1],'r--')\n",
    "plt.plot([0, 1], [0, 1], 'k--', label='Baseline')\n",
    "plt.xlim([0, 1])\n",
    "plt.ylim([0, 1])\n",
    "plt.ylabel('True Positive Rate')\n",
    "plt.xlabel('False Positive Rate')\n",
    "plt.show()"
   ]
  },
  {
   "cell_type": "code",
   "execution_count": 96,
   "metadata": {},
   "outputs": [
    {
     "name": "stdout",
     "output_type": "stream",
     "text": [
      "             precision    recall  f1-score   support\n",
      "\n",
      "          0       0.72      0.72      0.72       166\n",
      "          1       0.73      0.73      0.73       171\n",
      "\n",
      "avg / total       0.72      0.72      0.72       337\n",
      "\n"
     ]
    }
   ],
   "source": [
    "from sklearn.metrics import classification_report,confusion_matrix\n",
    "\n",
    "print(classification_report(y_test,pred))\n"
   ]
  },
  {
   "cell_type": "code",
   "execution_count": 95,
   "metadata": {},
   "outputs": [
    {
     "name": "stdout",
     "output_type": "stream",
     "text": [
      "[[119  47]\n",
      " [ 47 124]]\n"
     ]
    }
   ],
   "source": [
    "print(confusion_matrix(y_test, pred))"
   ]
  },
  {
   "cell_type": "markdown",
   "metadata": {},
   "source": [
    "### Random Forest"
   ]
  },
  {
   "cell_type": "code",
   "execution_count": 97,
   "metadata": {},
   "outputs": [
    {
     "name": "stderr",
     "output_type": "stream",
     "text": [
      "C:\\Users\\sugat\\Anaconda3\\lib\\site-packages\\sklearn\\ensemble\\weight_boosting.py:29: DeprecationWarning: numpy.core.umath_tests is an internal NumPy module and should not be imported. It will be removed in a future NumPy release.\n",
      "  from numpy.core.umath_tests import inner1d\n"
     ]
    }
   ],
   "source": [
    "from sklearn.ensemble import RandomForestClassifier\n",
    "rfc = RandomForestClassifier()\n",
    "rfc.fit(X_train, y_train)\n",
    "predict = rfc.predict(X_test)"
   ]
  },
  {
   "cell_type": "code",
   "execution_count": 98,
   "metadata": {},
   "outputs": [
    {
     "data": {
      "text/plain": [
       "0.8545994065281899"
      ]
     },
     "execution_count": 98,
     "metadata": {},
     "output_type": "execute_result"
    }
   ],
   "source": [
    "accuracy_score(y_test, predict)"
   ]
  },
  {
   "cell_type": "code",
   "execution_count": 100,
   "metadata": {
    "scrolled": true
   },
   "outputs": [
    {
     "data": {
      "image/png": "[encoded data removed]",
      "text/plain": [
       "<matplotlib.figure.Figure at 0x209414e5710>"
      ]
     },
     "metadata": {},
     "output_type": "display_data"
    }
   ],
   "source": [
    "fpr, tpr, thresholds = metrics.roc_curve(y_test,predict)\n",
    "roc_auc = auc(fpr, tpr)\n",
    "plt.title('Receiver Operating Characteristic')\n",
    "plt.plot(fpr, tpr, 'b', label = 'AUC = %0.2f' % roc_auc)\n",
    "plt.legend(loc = 'lower right')\n",
    "plt.plot([0, 1], [0, 1],'r--')\n",
    "plt.plot([0, 1], [0, 1], 'k--', label='Baseline')\n",
    "plt.xlim([0, 1])\n",
    "plt.ylim([0, 1])\n",
    "plt.ylabel('True Positive Rate')\n",
    "plt.xlabel('False Positive Rate')\n",
    "plt.show()"
   ]
  },
  {
   "cell_type": "markdown",
   "metadata": {},
   "source": [
    "As we see with Random Forest we have much better prediction than SVM, so yes our Intern is definitely on right track in selecting an right algorithm, its just matter of selecting right parameters and tuning the algorithm to avoid overfitting."
   ]
  },
  {
   "cell_type": "code",
   "execution_count": 101,
   "metadata": {},
   "outputs": [
    {
     "name": "stdout",
     "output_type": "stream",
     "text": [
      "             precision    recall  f1-score   support\n",
      "\n",
      "          0       0.85      0.86      0.85       166\n",
      "          1       0.86      0.85      0.86       171\n",
      "\n",
      "avg / total       0.85      0.85      0.85       337\n",
      "\n"
     ]
    }
   ],
   "source": [
    "print(classification_report(y_test,predict))\n"
   ]
  },
  {
   "cell_type": "code",
   "execution_count": 102,
   "metadata": {},
   "outputs": [
    {
     "name": "stdout",
     "output_type": "stream",
     "text": [
      "[[143  23]\n",
      " [ 26 145]]\n"
     ]
    }
   ],
   "source": [
    "print(confusion_matrix(y_test, predict))"
   ]
  },
  {
   "cell_type": "markdown",
   "metadata": {},
   "source": [
    "### So using the confusiion matrix we can find out all \"False Positives\" values which are represented as no-diabetes in dataset but detected as diabetes by our algorithm, clearly raising some red flags."
   ]
  },
  {
   "cell_type": "code",
   "execution_count": null,
   "metadata": {},
   "outputs": [],
   "source": []
  }
 ],
 "metadata": {
  "kernelspec": {
   "display_name": "Python 3",
   "language": "python",
   "name": "python3"
  },
  "language_info": {
   "codemirror_mode": {
    "name": "ipython",
    "version": 3
   },
   "file_extension": ".py",
   "mimetype": "text/x-python",
   "name": "python",
   "nbconvert_exporter": "python",
   "pygments_lexer": "ipython3",
   "version": "3.6.4"
  }
 },
 "nbformat": 4,
 "nbformat_minor": 2
}
